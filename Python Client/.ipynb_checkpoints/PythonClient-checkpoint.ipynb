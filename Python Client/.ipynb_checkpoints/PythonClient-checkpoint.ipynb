{
<<<<<<< HEAD
 "cells": [],
 "metadata": {},
=======
 "cells": [
  {
   "cell_type": "code",
   "execution_count": 3,
   "id": "8fea1327-f2d0-48ad-a07e-46a434c8adeb",
   "metadata": {},
   "outputs": [],
   "source": [
    "import mysql.connector as connector"
   ]
  },
  {
   "cell_type": "code",
   "execution_count": 6,
   "id": "4221f9f7-a88c-4c81-aaf5-84b74bd19573",
   "metadata": {},
   "outputs": [],
   "source": [
    "#Instance Variables - you can use your own\n",
    "USERNAME = 'root'\n",
    "PASSWORD = 'MySQLPass321!'\n",
    "DATABASE = 'Little_Lemon'\n",
    "connection = connector.connect(user = USERNAME, password = PASSWORD, db = DATABASE)"
   ]
  },
  {
   "cell_type": "code",
   "execution_count": 7,
   "id": "bfb52853-0425-4cc1-a327-a68688277433",
   "metadata": {},
   "outputs": [],
   "source": [
    "cursor = connection.cursor()"
   ]
  },
  {
   "cell_type": "code",
   "execution_count": 11,
   "id": "7c79e8d3-5dfd-4d8a-a27d-747316d5c174",
   "metadata": {},
   "outputs": [
    {
     "name": "stdout",
     "output_type": "stream",
     "text": [
      "[('Bookings',), ('Customers',), ('customersview',), ('MenuItems',), ('Menus',), ('Orders',), ('ordersview',), ('Staff',)]\n"
     ]
    }
   ],
   "source": [
    "cursor.execute('show tables')\n",
    "results = cursor.fetchall()\n",
    "print(results)"
   ]
  },
  {
   "cell_type": "code",
   "execution_count": 17,
   "id": "6c15e739-cee0-4370-8fb2-6ca26e8f86f8",
   "metadata": {},
   "outputs": [
    {
     "name": "stdout",
     "output_type": "stream",
     "text": [
      "('Name', 'PhoneNumber')\n",
      "('Rolland Brooke', 123456)\n",
      "('Layton Christians', 234567)\n",
      "('Weston Lynwood', 345678)\n",
      "('Orpha Readdie', 456789)\n"
     ]
    }
   ],
   "source": [
    "cursor.execute(\"\"\"  select distinct\n",
    "                    Customers.Name, \n",
    "                    Customers.PhoneNumber \n",
    "                    from Customers \n",
    "                        inner join\n",
    "                    Orders on Orders.CustomerID = Customers.CustomerID\n",
    "                    where\n",
    "                    Orders.OrderCost > 60\n",
    "\"\"\")\n",
    "results = cursor.fetchall()\n",
    "print(cursor.column_names)\n",
    "for result in results:\n",
    "    print(result)"
   ]
  },
  {
   "cell_type": "code",
   "execution_count": null,
   "id": "765f733e-1ff0-46f3-8f66-549e20d80dc6",
   "metadata": {},
   "outputs": [],
   "source": []
  }
 ],
 "metadata": {
  "kernelspec": {
   "display_name": "Python 3 (ipykernel)",
   "language": "python",
   "name": "python3"
  },
  "language_info": {
   "codemirror_mode": {
    "name": "ipython",
    "version": 3
   },
   "file_extension": ".py",
   "mimetype": "text/x-python",
   "name": "python",
   "nbconvert_exporter": "python",
   "pygments_lexer": "ipython3",
   "version": "3.10.9"
  }
 },
>>>>>>> 761dea5 (Commiting main to update python Client)
 "nbformat": 4,
 "nbformat_minor": 5
}
